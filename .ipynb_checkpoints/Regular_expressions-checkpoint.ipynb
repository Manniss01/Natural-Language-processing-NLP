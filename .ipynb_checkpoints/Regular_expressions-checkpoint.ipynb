{
 "cells": [
  {
   "cell_type": "code",
   "execution_count": null,
   "id": "e54e74bb",
   "metadata": {},
   "outputs": [],
   "source": [
    "#regular Expression\n",
    "\n",
    "# \\w \\W looks for the word\n",
    "# \\S \\s looks for the white space"
   ]
  },
  {
   "cell_type": "code",
   "execution_count": 2,
   "id": "20ee5acd",
   "metadata": {},
   "outputs": [
    {
     "name": "stdout",
     "output_type": "stream",
     "text": [
      "<module 're' from 'c:\\\\users\\\\manish\\\\appdata\\\\local\\\\programs\\\\python\\\\python36\\\\lib\\\\re.py'>\n"
     ]
    }
   ],
   "source": [
    "import re\n",
    "print(re) #checking re package in the library"
   ]
  },
  {
   "cell_type": "code",
   "execution_count": 5,
   "id": "c992b1f5",
   "metadata": {},
   "outputs": [],
   "source": [
    "re_test = \"This is a made up string to test 2 different regex methods\"\n",
    "re_test_messy = \"This       is a made up            string to test 2     different regex methods\"\n",
    "re_test_messey1 = \"This-is-a-made/up.string*to>>>>>>>>test----------2''''''''''''different-regex-methods\""
   ]
  },
  {
   "cell_type": "code",
   "execution_count": 15,
   "id": "d3e785ad",
   "metadata": {},
   "outputs": [
    {
     "data": {
      "text/plain": [
       "['This',\n",
       " 'is',\n",
       " 'a',\n",
       " 'made',\n",
       " 'up',\n",
       " 'string',\n",
       " 'to',\n",
       " 'test',\n",
       " '2',\n",
       " 'different',\n",
       " 'regex',\n",
       " 'methods']"
      ]
     },
     "execution_count": 15,
     "metadata": {},
     "output_type": "execute_result"
    }
   ],
   "source": [
    "# Splitting a sentence into a list of words\n",
    "\n",
    "re.split('\\s', re_test) #spliting the word that looks for single white space ignore the words \n"
   ]
  },
  {
   "cell_type": "code",
   "execution_count": 18,
   "id": "6efd3a3c",
   "metadata": {},
   "outputs": [
    {
     "data": {
      "text/plain": [
       "['This',\n",
       " 'is',\n",
       " 'a',\n",
       " 'made',\n",
       " 'up',\n",
       " 'string',\n",
       " 'to',\n",
       " 'test',\n",
       " '2',\n",
       " 'different',\n",
       " 'regex',\n",
       " 'methods']"
      ]
     },
     "execution_count": 18,
     "metadata": {},
     "output_type": "execute_result"
    }
   ],
   "source": [
    "re.split('\\s+', re_test_messy) #lookes for more white space "
   ]
  },
  {
   "cell_type": "code",
   "execution_count": 20,
   "id": "62b2244f",
   "metadata": {},
   "outputs": [
    {
     "data": {
      "text/plain": [
       "[\"This-is-a-made/up.string*to>>>>>>>>test----------2''''''''''''different-regex-methods\"]"
      ]
     },
     "execution_count": 20,
     "metadata": {},
     "output_type": "execute_result"
    }
   ],
   "source": [
    "re.split('\\s+', re_test_messey1)"
   ]
  },
  {
   "cell_type": "code",
   "execution_count": 23,
   "id": "da80809b",
   "metadata": {},
   "outputs": [
    {
     "data": {
      "text/plain": [
       "['This',\n",
       " 'is',\n",
       " 'a',\n",
       " 'made',\n",
       " 'up',\n",
       " 'string',\n",
       " 'to',\n",
       " 'test',\n",
       " '2',\n",
       " 'different',\n",
       " 'regex',\n",
       " 'methods']"
      ]
     },
     "execution_count": 23,
     "metadata": {},
     "output_type": "execute_result"
    }
   ],
   "source": [
    "re.split('\\W+', re_test_messey1) #looks for non-word character "
   ]
  },
  {
   "cell_type": "code",
   "execution_count": 25,
   "id": "fdb66241",
   "metadata": {},
   "outputs": [
    {
     "data": {
      "text/plain": [
       "['This',\n",
       " 'is',\n",
       " 'a',\n",
       " 'made',\n",
       " 'up',\n",
       " 'string',\n",
       " 'to',\n",
       " 'test',\n",
       " '2',\n",
       " 'different',\n",
       " 'regex',\n",
       " 'methods']"
      ]
     },
     "execution_count": 25,
     "metadata": {},
     "output_type": "execute_result"
    }
   ],
   "source": [
    "re.findall('\\S+', re_test) #Findall function will looks for the actual word "
   ]
  },
  {
   "cell_type": "code",
   "execution_count": 26,
   "id": "42045407",
   "metadata": {},
   "outputs": [
    {
     "data": {
      "text/plain": [
       "['This',\n",
       " 'is',\n",
       " 'a',\n",
       " 'made',\n",
       " 'up',\n",
       " 'string',\n",
       " 'to',\n",
       " 'test',\n",
       " '2',\n",
       " 'different',\n",
       " 'regex',\n",
       " 'methods']"
      ]
     },
     "execution_count": 26,
     "metadata": {},
     "output_type": "execute_result"
    }
   ],
   "source": [
    "re.findall('\\S+', re_test_messy)"
   ]
  },
  {
   "cell_type": "code",
   "execution_count": 27,
   "id": "aff37797",
   "metadata": {},
   "outputs": [
    {
     "data": {
      "text/plain": [
       "[\"This-is-a-made/up.string*to>>>>>>>>test----------2''''''''''''different-regex-methods\"]"
      ]
     },
     "execution_count": 27,
     "metadata": {},
     "output_type": "execute_result"
    }
   ],
   "source": [
    "re.findall('\\S+', re_test_messey1)"
   ]
  },
  {
   "cell_type": "code",
   "execution_count": 29,
   "id": "a257fec9",
   "metadata": {},
   "outputs": [
    {
     "data": {
      "text/plain": [
       "['This',\n",
       " 'is',\n",
       " 'a',\n",
       " 'made',\n",
       " 'up',\n",
       " 'string',\n",
       " 'to',\n",
       " 'test',\n",
       " '2',\n",
       " 'different',\n",
       " 'regex',\n",
       " 'methods']"
      ]
     },
     "execution_count": 29,
     "metadata": {},
     "output_type": "execute_result"
    }
   ],
   "source": [
    "re.findall('\\w+', re_test_messey1) #looks for non-word character from the sentence "
   ]
  },
  {
   "cell_type": "markdown",
   "id": "03657838",
   "metadata": {},
   "source": [
    "# replacing a specific strings from the sentence"
   ]
  },
  {
   "cell_type": "code",
   "execution_count": 40,
   "id": "2cf8b525",
   "metadata": {},
   "outputs": [],
   "source": [
    "pep8_test = ' I try to follow PEP8 guidelines'\n",
    "pep7_test = 'I try to follow PEP7 guideline'\n",
    "peep8_test = 'I try to follow PEEP8 guideline'\n",
    "peep9_test = 'I try to follow PEEPs8 guideline'"
   ]
  },
  {
   "cell_type": "code",
   "execution_count": 41,
   "id": "e96e3329",
   "metadata": {},
   "outputs": [
    {
     "data": {
      "text/plain": [
       "['try', 'to', 'follow', 'guidelines']"
      ]
     },
     "execution_count": 41,
     "metadata": {},
     "output_type": "execute_result"
    }
   ],
   "source": [
    "re.findall('[a-z]+' , pep8_test)"
   ]
  },
  {
   "cell_type": "code",
   "execution_count": 42,
   "id": "3c534933",
   "metadata": {},
   "outputs": [
    {
     "data": {
      "text/plain": [
       "['PEEPs8 ']"
      ]
     },
     "execution_count": 42,
     "metadata": {},
     "output_type": "execute_result"
    }
   ],
   "source": [
    "re.findall('[A-z]+[0-9]+ ', peep9_test)"
   ]
  },
  {
   "cell_type": "code",
   "execution_count": 43,
   "id": "867360d0",
   "metadata": {},
   "outputs": [
    {
     "data": {
      "text/plain": [
       "['PEP8 ']"
      ]
     },
     "execution_count": 43,
     "metadata": {},
     "output_type": "execute_result"
    }
   ],
   "source": [
    "re.findall('[A-Z]+[0-9]+ ', pep8_test)"
   ]
  },
  {
   "cell_type": "code",
   "execution_count": 46,
   "id": "41b15f38",
   "metadata": {},
   "outputs": [],
   "source": [
    "# Function Sub() it will help to replace the word with regex \n",
    "\n",
    "peep8_test=re.sub('[A-Z]+[0-9]', 'PEP8 python guidelines', peep8_test)"
   ]
  },
  {
   "cell_type": "code",
   "execution_count": 47,
   "id": "e0729e46",
   "metadata": {},
   "outputs": [
    {
     "name": "stdout",
     "output_type": "stream",
     "text": [
      "I try to follow PEP8 python guidelines guideline\n"
     ]
    }
   ],
   "source": [
    "print(peep8_test)"
   ]
  },
  {
   "cell_type": "code",
   "execution_count": null,
   "id": "9015f0e5",
   "metadata": {},
   "outputs": [],
   "source": []
  }
 ],
 "metadata": {
  "kernelspec": {
   "display_name": "Python 3 (ipykernel)",
   "language": "python",
   "name": "python3"
  },
  "language_info": {
   "codemirror_mode": {
    "name": "ipython",
    "version": 3
   },
   "file_extension": ".py",
   "mimetype": "text/x-python",
   "name": "python",
   "nbconvert_exporter": "python",
   "pygments_lexer": "ipython3",
   "version": "3.6.2"
  }
 },
 "nbformat": 4,
 "nbformat_minor": 5
}
